{
 "cells": [
  {
   "cell_type": "markdown",
   "id": "9310021e",
   "metadata": {},
   "source": [
    "# <h1 align=\"center\">Drug Overdose Deaths Analysis Part.3</h1>"
   ]
  },
  {
   "cell_type": "markdown",
   "id": "6a07961d",
   "metadata": {},
   "source": [
    "# Introduction <small id='intro'></small>"
   ]
  },
  {
   "cell_type": "markdown",
   "id": "a558911f",
   "metadata": {},
   "source": [
    "Welcome to the continuation of our journey with the `drug_deaths` dataset. In this notebook, we will explore several feature transformation techniques, including **OneHotEncoder**, **BinaryEncoder** and handling missing values in the data through dropping or filling. Additionally, also we will cover feature scaling methods to ensure the data is appropriately scaled for the processing stage."
   ]
  },
  {
   "cell_type": "markdown",
   "id": "0bf98950",
   "metadata": {},
   "source": [
    "## Overview\n",
    "1. [Introduction](#intro)\n",
    "1. [Imports](#imports)\n",
    "1. [Load the Data](#load_the_data)\n",
    "1. [Check Missing values](#missing_values)\n",
    "1. [Dealing with Missing values](#dealing)\n",
    "1. [Encoding Process](#encoding)\n",
    "1. [Split Data to Train and Test sets](#split)\n",
    "1. [Scaling Process](#scaling)\n",
    "1. [Summary](#summarize)"
   ]
  },
  {
   "cell_type": "markdown",
   "id": "414a8efe",
   "metadata": {},
   "source": [
    "# Imports <small id='imports'></small>"
   ]
  },
  {
   "cell_type": "code",
   "execution_count": null,
   "id": "4d0bb244",
   "metadata": {},
   "outputs": [],
   "source": [
    "import pandas as pd\n",
    "\n",
    "from sklearn.preprocessing import OneHotEncoder\n",
    "\n",
    "from category_encoders import BinaryEncoder\n",
    "\n",
    "from sklearn.model_selection import train_test_split\n",
    "\n",
    "from sklearn.preprocessing import RobustScaler\n",
    "\n",
    "# Ignore warnings\n",
    "import warnings\n",
    "warnings.filterwarnings('ignore')\n",
    "\n",
    "# Enable multiple cell outputs\n",
    "from IPython.core.interactiveshell import InteractiveShell\n",
    "InteractiveShell.ast_node_interactivity = 'all'"
   ]
  },
  {
   "cell_type": "markdown",
   "id": "7a8be688",
   "metadata": {},
   "source": [
    "# Load the Data <small id='load_the_data'></small>"
   ]
  },
  {
   "cell_type": "code",
   "execution_count": null,
   "id": "cb5d8d75",
   "metadata": {},
   "outputs": [],
   "source": [
    "df = pd.read_csv('Drug_deaths_pt2.csv', dtype={'Year': str})"
   ]
  },
  {
   "cell_type": "code",
   "execution_count": null,
   "id": "927998c2",
   "metadata": {},
   "outputs": [],
   "source": []
  },
  {
   "cell_type": "code",
   "execution_count": null,
   "id": "f4e38c61",
   "metadata": {},
   "outputs": [],
   "source": []
  },
  {
   "cell_type": "code",
   "execution_count": null,
   "id": "d81e66e3",
   "metadata": {},
   "outputs": [],
   "source": []
  },
  {
   "cell_type": "markdown",
   "id": "c1f2c2b9",
   "metadata": {},
   "source": [
    "# Check Missing values <small id='missing_values'></small>"
   ]
  },
  {
   "cell_type": "code",
   "execution_count": null,
   "id": "c6d627f3",
   "metadata": {
    "scrolled": false
   },
   "outputs": [],
   "source": [
    "df.isnull().sum()\n",
    "df.isnull().mean() *100"
   ]
  },
  {
   "cell_type": "code",
   "execution_count": null,
   "id": "695b6e3f",
   "metadata": {},
   "outputs": [],
   "source": []
  },
  {
   "cell_type": "markdown",
   "id": "829a052a",
   "metadata": {},
   "source": [
    "# Dealing with Missing values <small id='dealing'></small>"
   ]
  },
  {
   "cell_type": "markdown",
   "id": "9f799a07",
   "metadata": {},
   "source": [
    "1. [DateType](#datetype)\n",
    "1. [Age](#age)\n",
    "1. [Sex](#sex)\n",
    "1. [Race](#race)\n",
    "1. [Location](#location)\n",
    "1. [DescriptionofInjury](#descofinjry)\n",
    "1. [InjuryPlace](#injuryplace)\n",
    "1. [OtherSignifican](#othersigns)\n",
    "1. [Other](#other)\n",
    "1. [MannerofDeath](#manner)"
   ]
  },
  {
   "cell_type": "markdown",
   "id": "39849307",
   "metadata": {},
   "source": [
    "###  - `DateType` column <small id='datetype'></small>"
   ]
  },
  {
   "cell_type": "code",
   "execution_count": null,
   "id": "76b9a604",
   "metadata": {},
   "outputs": [],
   "source": [
    "df.dropna(axis=0, subset='DateType', inplace=True)"
   ]
  },
  {
   "cell_type": "markdown",
   "id": "dffdd997",
   "metadata": {},
   "source": [
    "###  - `Age` column <small id='age'></small>"
   ]
  },
  {
   "cell_type": "code",
   "execution_count": null,
   "id": "8f71637d",
   "metadata": {},
   "outputs": [],
   "source": [
    "df.dropna(axis=0, subset='Age', inplace=True)"
   ]
  },
  {
   "cell_type": "markdown",
   "id": "7ac54cc9",
   "metadata": {},
   "source": [
    "###  - `Sex` column <small id='sex'></small>"
   ]
  },
  {
   "cell_type": "code",
   "execution_count": null,
   "id": "5f057bcb",
   "metadata": {},
   "outputs": [],
   "source": [
    "df['Sex'].fillna('Unknown', inplace=True)"
   ]
  },
  {
   "cell_type": "markdown",
   "id": "b4491bba",
   "metadata": {},
   "source": [
    "###  - `Race` column <small id='race'></small>"
   ]
  },
  {
   "cell_type": "code",
   "execution_count": null,
   "id": "3cb29404",
   "metadata": {},
   "outputs": [],
   "source": [
    "df['Race'].fillna('Unknown', inplace=True)"
   ]
  },
  {
   "cell_type": "markdown",
   "id": "3a239816",
   "metadata": {},
   "source": [
    "###  - `Location` column <small id='location'></small>"
   ]
  },
  {
   "cell_type": "code",
   "execution_count": null,
   "id": "10656977",
   "metadata": {},
   "outputs": [],
   "source": [
    "df.dropna(axis=0, subset='Location', inplace=True)"
   ]
  },
  {
   "cell_type": "markdown",
   "id": "8d890f12",
   "metadata": {},
   "source": [
    "###  - `DescriptionofInjury` column <small id='descofinjry'></small>"
   ]
  },
  {
   "cell_type": "code",
   "execution_count": null,
   "id": "af25b56f",
   "metadata": {},
   "outputs": [],
   "source": [
    "df['DescriptionofInjury'].fillna('No Description', inplace=True)"
   ]
  },
  {
   "cell_type": "markdown",
   "id": "44a7f364",
   "metadata": {},
   "source": [
    "###  - `InjuryPlace` column <small id='injuryplace'></small>"
   ]
  },
  {
   "cell_type": "code",
   "execution_count": null,
   "id": "36ff13c4",
   "metadata": {},
   "outputs": [],
   "source": [
    "df['InjuryPlace'].fillna('other', inplace=True)"
   ]
  },
  {
   "cell_type": "markdown",
   "id": "e58fd07d",
   "metadata": {
    "scrolled": true
   },
   "source": [
    "###  - `OtherSignifican` column <small id='othersigns'></small>"
   ]
  },
  {
   "cell_type": "code",
   "execution_count": null,
   "id": "252cd951",
   "metadata": {},
   "outputs": [],
   "source": [
    "df['OtherSignifican'].fillna('No Sign', inplace=True)"
   ]
  },
  {
   "cell_type": "markdown",
   "id": "396a46d8",
   "metadata": {},
   "source": [
    "###  - `Other` column <small id='other'></small>"
   ]
  },
  {
   "cell_type": "code",
   "execution_count": null,
   "id": "5f41a739",
   "metadata": {},
   "outputs": [],
   "source": [
    "df['Other'].fillna('others', inplace=True)"
   ]
  },
  {
   "cell_type": "markdown",
   "id": "6dbf6227",
   "metadata": {},
   "source": [
    "###  - `MannerofDeath` column <small id='manner'></small>"
   ]
  },
  {
   "cell_type": "code",
   "execution_count": null,
   "id": "5891c9d7",
   "metadata": {},
   "outputs": [],
   "source": [
    "df['MannerofDeath'].fillna('Unknown', inplace=True)"
   ]
  },
  {
   "cell_type": "code",
   "execution_count": null,
   "id": "b89926f6",
   "metadata": {},
   "outputs": [],
   "source": []
  },
  {
   "cell_type": "code",
   "execution_count": null,
   "id": "b028106c",
   "metadata": {},
   "outputs": [],
   "source": []
  },
  {
   "cell_type": "code",
   "execution_count": null,
   "id": "594b3b28",
   "metadata": {},
   "outputs": [],
   "source": []
  },
  {
   "cell_type": "code",
   "execution_count": null,
   "id": "6e55c781",
   "metadata": {},
   "outputs": [],
   "source": []
  },
  {
   "cell_type": "code",
   "execution_count": null,
   "id": "6d568446",
   "metadata": {},
   "outputs": [],
   "source": []
  },
  {
   "cell_type": "markdown",
   "id": "12a482da",
   "metadata": {},
   "source": [
    "# Encoding Process <small id='encoding'></small>"
   ]
  },
  {
   "cell_type": "code",
   "execution_count": null,
   "id": "5520bb70",
   "metadata": {},
   "outputs": [],
   "source": [
    "def encode_and_concat(df, column):\n",
    "    # Create an instance of BinaryEncoder\n",
    "    encoder = BinaryEncoder()\n",
    "    \n",
    "    # Transform the specified column using BinaryEncoder\n",
    "    transformed_df = encoder.fit_transform(df[[column]])\n",
    "    \n",
    "    # Concatenate the transformed column with the original DataFrame\n",
    "    df = pd.concat([df, transformed_df], axis=1)\n",
    "    \n",
    "    # Drop the original categorical column\n",
    "    df.drop(column, axis=1, inplace=True)\n",
    "    \n",
    "    # Return the updated DataFrame\n",
    "    return df"
   ]
  },
  {
   "cell_type": "code",
   "execution_count": null,
   "id": "d601c75b",
   "metadata": {},
   "outputs": [],
   "source": [
    "def encode_all(df, lst):\n",
    "    # Iterate over the list of column names\n",
    "    for i in range(len(lst)):\n",
    "        # Encode and concatenate each column using the encode_and_concat function\n",
    "        df = encode_and_concat(df, column=lst[i])\n",
    "    \n",
    "    # Return the updated DataFrame\n",
    "    return df"
   ]
  },
  {
   "cell_type": "code",
   "execution_count": null,
   "id": "7df9b2ad",
   "metadata": {},
   "outputs": [],
   "source": [
    "# preparing the columns names and place them in 'lstcols' list\n",
    "lst_cols = df.columns[2:17].tolist()\n",
    "lst_cols.append('Other')\n",
    "lst_cols = lst_cols+df.columns[34:].tolist()"
   ]
  },
  {
   "cell_type": "code",
   "execution_count": null,
   "id": "a27011ea",
   "metadata": {},
   "outputs": [],
   "source": [
    "# Appling the encode_and_concat function\n",
    "df = encode_all(df, lst_cols)"
   ]
  },
  {
   "cell_type": "code",
   "execution_count": null,
   "id": "3aa6b690",
   "metadata": {},
   "outputs": [],
   "source": []
  },
  {
   "cell_type": "markdown",
   "id": "3d3f7572",
   "metadata": {},
   "source": [
    "# Split Data to Train and Test sets <small id='split'></small>"
   ]
  },
  {
   "cell_type": "code",
   "execution_count": null,
   "id": "04d45bfc",
   "metadata": {},
   "outputs": [],
   "source": [
    "x = df.drop('AnyOpioid', axis=1)\n",
    "y = df['AnyOpioid']"
   ]
  },
  {
   "cell_type": "code",
   "execution_count": null,
   "id": "b3067b4f",
   "metadata": {},
   "outputs": [],
   "source": [
    "x_train, x_test, y_train, y_test = train_test_split(x, y, test_size=0.2, random_state=1)"
   ]
  },
  {
   "cell_type": "code",
   "execution_count": null,
   "id": "b3eabade",
   "metadata": {},
   "outputs": [],
   "source": [
    "x_train"
   ]
  },
  {
   "cell_type": "code",
   "execution_count": null,
   "id": "c17f7378",
   "metadata": {},
   "outputs": [],
   "source": [
    "y_train"
   ]
  },
  {
   "cell_type": "code",
   "execution_count": null,
   "id": "79fd738e",
   "metadata": {},
   "outputs": [],
   "source": []
  },
  {
   "cell_type": "markdown",
   "id": "8c8f0da7",
   "metadata": {},
   "source": [
    "# Scaling Process <small id='scaling'></small>"
   ]
  },
  {
   "cell_type": "code",
   "execution_count": null,
   "id": "8b1b6451",
   "metadata": {},
   "outputs": [],
   "source": [
    "scaler = RobustScaler()"
   ]
  },
  {
   "cell_type": "code",
   "execution_count": null,
   "id": "75681893",
   "metadata": {},
   "outputs": [],
   "source": [
    "x_train[['Age']] = scaler.fit_transform(x_train[['Age']])"
   ]
  },
  {
   "cell_type": "code",
   "execution_count": null,
   "id": "0befcc8d",
   "metadata": {},
   "outputs": [],
   "source": [
    "x_train"
   ]
  },
  {
   "cell_type": "code",
   "execution_count": null,
   "id": "db8f3b16",
   "metadata": {},
   "outputs": [],
   "source": []
  },
  {
   "cell_type": "markdown",
   "id": "30466dae",
   "metadata": {},
   "source": [
    "# Summary <small id='summarize'></small>"
   ]
  },
  {
   "cell_type": "markdown",
   "id": "f7125e0a",
   "metadata": {},
   "source": [
    "**Analyzing Drug Overdose Deaths Dataset**\n",
    "\n",
    "In this analysis journey, we explored the \"Drug Overdose Deaths\" dataset, focusing on various data preprocessing and exploratory data analysis techniques. The following steps were performed to gain insights from the dataset:\n",
    "\n",
    "1. **Data Understanding:** We examined the structure and content of the dataset, including the columns, data types, and any missing values.\n",
    "\n",
    "2. **Univariate Analysis:** We performed an examination of individual variables in the dataset. This analysis involved analyzing the distribution, identifying outliers, and calculating summary statistics. Visualizations like histograms and bar plots were utilized to gain insights into each variable.\n",
    "\n",
    "3. **Bivariate Analysis:** We explored relationships between pairs of variables. This analysis allowed us to understand dependencies, correlations, or associations between different features. Techniques such as scatter plots and correlation matrices were employed to investigate these relationships.\n",
    "\n",
    "4. **Data Cleaning:** We analyzed the dataset for missing values and applied suitable strategies to handle them. Missing values were either dropped or filled using appropriate imputation techniques.\n",
    "\n",
    "5. **Answering Questions:** Throughout the analysis, we formulated specific questions related to the dataset and provided answers based on our findings. We supported our conclusions with appropriate statistical techniques and visualizations.\n",
    "\n",
    "3. **Data Encoding:** Categorical or textual columns in the dataset were encoded to numerical values. This enabled us to incorporate these features in further analysis by transforming them into suitable representations.\n",
    "\n",
    "4. **Feature Scaling:** To ensure fair comparisons and prevent certain features from dominating others, we applied feature scaling techniques. This step standardized the features, making them comparable on a common scale.\n",
    "\n",
    "\n",
    "In conclusion, this analysis of the \"Drug Overdose Deaths\" dataset uncovered valuable insights about drug-related fatalities. By performing both univariate and bivariate analyses, addressing missing values, encoding categorical data and  scaling features. we gained a comprehensive understanding of the dataset. The findings obtained can be used to inform future research, policy-making, and interventions related to drug overdose prevention and public health."
   ]
  },
  {
   "cell_type": "markdown",
   "id": "c83c227b",
   "metadata": {},
   "source": [
    "# There you go!"
   ]
  }
 ],
 "metadata": {
  "kernelspec": {
   "display_name": "Python 3 (ipykernel)",
   "language": "python",
   "name": "python3"
  },
  "language_info": {
   "codemirror_mode": {
    "name": "ipython",
    "version": 3
   },
   "file_extension": ".py",
   "mimetype": "text/x-python",
   "name": "python",
   "nbconvert_exporter": "python",
   "pygments_lexer": "ipython3",
   "version": "3.10.8"
  }
 },
 "nbformat": 4,
 "nbformat_minor": 5
}
